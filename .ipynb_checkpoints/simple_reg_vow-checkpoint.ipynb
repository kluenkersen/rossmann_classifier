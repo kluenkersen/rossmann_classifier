{
 "cells": [
  {
   "cell_type": "code",
   "execution_count": 1,
   "metadata": {},
   "outputs": [
    {
     "name": "stdout",
     "output_type": "stream",
     "text": [
      "Requirement already satisfied: fastai==0.7.0 in /home/ec2-user/anaconda3/envs/fastai/lib/python3.6/site-packages (0.7.0)\n",
      "Requirement already satisfied: Pygments in /home/ec2-user/anaconda3/envs/fastai/lib/python3.6/site-packages (from fastai==0.7.0) (2.3.1)\n",
      "Requirement already satisfied: jsonschema in /home/ec2-user/anaconda3/envs/fastai/lib/python3.6/site-packages (from fastai==0.7.0) (2.6.0)\n",
      "Requirement already satisfied: ipywidgets in /home/ec2-user/anaconda3/envs/fastai/lib/python3.6/site-packages (from fastai==0.7.0) (7.4.2)\n",
      "Requirement already satisfied: wcwidth in /home/ec2-user/anaconda3/envs/fastai/lib/python3.6/site-packages (from fastai==0.7.0) (0.1.7)\n",
      "Requirement already satisfied: pyzmq in /home/ec2-user/anaconda3/envs/fastai/lib/python3.6/site-packages (from fastai==0.7.0) (17.1.2)\n",
      "Requirement already satisfied: torch<0.4 in /home/ec2-user/anaconda3/envs/fastai/lib/python3.6/site-packages (from fastai==0.7.0) (0.3.1.post2)\n",
      "Requirement already satisfied: torchtext in /home/ec2-user/anaconda3/envs/fastai/lib/python3.6/site-packages (from fastai==0.7.0) (0.2.3)\n",
      "Requirement already satisfied: feather-format in /home/ec2-user/anaconda3/envs/fastai/lib/python3.6/site-packages (from fastai==0.7.0) (0.4.0)\n",
      "Requirement already satisfied: pandas in /home/ec2-user/anaconda3/envs/fastai/lib/python3.6/site-packages (from fastai==0.7.0) (0.23.4)\n",
      "Requirement already satisfied: PyYAML in /home/ec2-user/anaconda3/envs/fastai/lib/python3.6/site-packages (from fastai==0.7.0) (3.13)\n",
      "Requirement already satisfied: graphviz in /home/ec2-user/anaconda3/envs/fastai/lib/python3.6/site-packages (from fastai==0.7.0) (0.10.1)\n",
      "Requirement already satisfied: pickleshare in /home/ec2-user/anaconda3/envs/fastai/lib/python3.6/site-packages (from fastai==0.7.0) (0.7.5)\n",
      "Requirement already satisfied: seaborn in /home/ec2-user/anaconda3/envs/fastai/lib/python3.6/site-packages (from fastai==0.7.0) (0.9.0)\n",
      "Requirement already satisfied: widgetsnbextension in /home/ec2-user/anaconda3/envs/fastai/lib/python3.6/site-packages (from fastai==0.7.0) (3.4.2)\n",
      "Requirement already satisfied: ipykernel in /home/ec2-user/anaconda3/envs/fastai/lib/python3.6/site-packages (from fastai==0.7.0) (5.1.0)\n",
      "Requirement already satisfied: pyparsing in /home/ec2-user/anaconda3/envs/fastai/lib/python3.6/site-packages (from fastai==0.7.0) (2.3.0)\n",
      "Requirement already satisfied: bleach in /home/ec2-user/anaconda3/envs/fastai/lib/python3.6/site-packages (from fastai==0.7.0) (3.0.2)\n",
      "Requirement already satisfied: numpy in /home/ec2-user/anaconda3/envs/fastai/lib/python3.6/site-packages (from fastai==0.7.0) (1.15.4)\n",
      "Requirement already satisfied: plotnine in /home/ec2-user/anaconda3/envs/fastai/lib/python3.6/site-packages (from fastai==0.7.0) (0.5.1)\n",
      "Requirement already satisfied: pytz in /home/ec2-user/anaconda3/envs/fastai/lib/python3.6/site-packages (from fastai==0.7.0) (2018.7)\n",
      "Requirement already satisfied: python-dateutil in /home/ec2-user/anaconda3/envs/fastai/lib/python3.6/site-packages (from fastai==0.7.0) (2.7.5)\n",
      "Requirement already satisfied: decorator in /home/ec2-user/anaconda3/envs/fastai/lib/python3.6/site-packages (from fastai==0.7.0) (4.3.0)\n",
      "Requirement already satisfied: traitlets in /home/ec2-user/anaconda3/envs/fastai/lib/python3.6/site-packages (from fastai==0.7.0) (4.3.2)\n",
      "Requirement already satisfied: bcolz in /home/ec2-user/anaconda3/envs/fastai/lib/python3.6/site-packages (from fastai==0.7.0) (1.2.1)\n",
      "Requirement already satisfied: sklearn-pandas in /home/ec2-user/anaconda3/envs/fastai/lib/python3.6/site-packages (from fastai==0.7.0) (1.8.0)\n",
      "Requirement already satisfied: tornado in /home/ec2-user/anaconda3/envs/fastai/lib/python3.6/site-packages (from fastai==0.7.0) (4.5.3)\n",
      "Requirement already satisfied: torchvision in /home/ec2-user/anaconda3/envs/fastai/lib/python3.6/site-packages (from fastai==0.7.0) (0.1.9)\n",
      "Requirement already satisfied: MarkupSafe in /home/ec2-user/anaconda3/envs/fastai/lib/python3.6/site-packages (from fastai==0.7.0) (1.1.0)\n",
      "Requirement already satisfied: testpath in /home/ec2-user/anaconda3/envs/fastai/lib/python3.6/site-packages (from fastai==0.7.0) (0.4.2)\n",
      "Requirement already satisfied: tqdm in /home/ec2-user/anaconda3/envs/fastai/lib/python3.6/site-packages (from fastai==0.7.0) (4.28.1)\n",
      "Requirement already satisfied: pandas-summary in /home/ec2-user/anaconda3/envs/fastai/lib/python3.6/site-packages (from fastai==0.7.0) (0.0.5)\n",
      "Requirement already satisfied: ipython in /home/ec2-user/anaconda3/envs/fastai/lib/python3.6/site-packages (from fastai==0.7.0) (7.2.0)\n",
      "Requirement already satisfied: html5lib in /home/ec2-user/anaconda3/envs/fastai/lib/python3.6/site-packages (from fastai==0.7.0) (1.0.1)\n",
      "Requirement already satisfied: entrypoints in /home/ec2-user/anaconda3/envs/fastai/lib/python3.6/site-packages (from fastai==0.7.0) (0.2.3)\n",
      "Requirement already satisfied: certifi in /home/ec2-user/anaconda3/envs/fastai/lib/python3.6/site-packages (from fastai==0.7.0) (2018.11.29)\n",
      "Requirement already satisfied: Jinja2 in /home/ec2-user/anaconda3/envs/fastai/lib/python3.6/site-packages (from fastai==0.7.0) (2.10)\n",
      "Requirement already satisfied: webencodings in /home/ec2-user/anaconda3/envs/fastai/lib/python3.6/site-packages (from fastai==0.7.0) (0.5.1)\n",
      "Requirement already satisfied: matplotlib in /home/ec2-user/anaconda3/envs/fastai/lib/python3.6/site-packages (from fastai==0.7.0) (3.0.2)\n",
      "Requirement already satisfied: ptyprocess in /home/ec2-user/anaconda3/envs/fastai/lib/python3.6/site-packages (from fastai==0.7.0) (0.6.0)\n",
      "Requirement already satisfied: simplegeneric in /home/ec2-user/anaconda3/envs/fastai/lib/python3.6/site-packages (from fastai==0.7.0) (0.8.1)\n",
      "Requirement already satisfied: Pillow in /home/ec2-user/anaconda3/envs/fastai/lib/python3.6/site-packages (from fastai==0.7.0) (5.3.0)\n",
      "Requirement already satisfied: isoweek in /home/ec2-user/anaconda3/envs/fastai/lib/python3.6/site-packages (from fastai==0.7.0) (1.3.3)\n",
      "Requirement already satisfied: jedi in /home/ec2-user/anaconda3/envs/fastai/lib/python3.6/site-packages (from fastai==0.7.0) (0.13.2)\n",
      "Requirement already satisfied: jupyter in /home/ec2-user/anaconda3/envs/fastai/lib/python3.6/site-packages (from fastai==0.7.0) (1.0.0)\n",
      "Requirement already satisfied: cycler in /home/ec2-user/anaconda3/envs/fastai/lib/python3.6/site-packages (from fastai==0.7.0) (0.10.0)\n",
      "Requirement already satisfied: opencv-python in /home/ec2-user/anaconda3/envs/fastai/lib/python3.6/site-packages (from fastai==0.7.0) (3.4.4.19)\n",
      "Requirement already satisfied: scipy in /home/ec2-user/anaconda3/envs/fastai/lib/python3.6/site-packages (from fastai==0.7.0) (1.1.0)\n",
      "Requirement already satisfied: ipython-genutils in /home/ec2-user/anaconda3/envs/fastai/lib/python3.6/site-packages (from fastai==0.7.0) (0.2.0)\n",
      "Requirement already satisfied: nbformat>=4.2.0 in /home/ec2-user/anaconda3/envs/fastai/lib/python3.6/site-packages (from ipywidgets->fastai==0.7.0) (4.4.0)\n",
      "Requirement already satisfied: requests in /home/ec2-user/anaconda3/envs/fastai/lib/python3.6/site-packages (from torchtext->fastai==0.7.0) (2.21.0)\n",
      "Requirement already satisfied: pyarrow>=0.4.0 in /home/ec2-user/anaconda3/envs/fastai/lib/python3.6/site-packages (from feather-format->fastai==0.7.0) (0.11.1)\n",
      "Requirement already satisfied: notebook>=4.4.1 in /home/ec2-user/anaconda3/envs/fastai/lib/python3.6/site-packages (from widgetsnbextension->fastai==0.7.0) (5.7.4)\n",
      "Requirement already satisfied: jupyter-client in /home/ec2-user/anaconda3/envs/fastai/lib/python3.6/site-packages (from ipykernel->fastai==0.7.0) (5.2.4)\n",
      "Requirement already satisfied: six in /home/ec2-user/anaconda3/envs/fastai/lib/python3.6/site-packages (from bleach->fastai==0.7.0) (1.12.0)\n",
      "Requirement already satisfied: descartes>=1.1.0 in /home/ec2-user/anaconda3/envs/fastai/lib/python3.6/site-packages (from plotnine->fastai==0.7.0) (1.1.0)\n",
      "Requirement already satisfied: patsy>=0.4.1 in /home/ec2-user/anaconda3/envs/fastai/lib/python3.6/site-packages (from plotnine->fastai==0.7.0) (0.5.1)\n",
      "Requirement already satisfied: statsmodels>=0.8.0 in /home/ec2-user/anaconda3/envs/fastai/lib/python3.6/site-packages (from plotnine->fastai==0.7.0) (0.9.0)\n",
      "Requirement already satisfied: mizani>=0.5.2 in /home/ec2-user/anaconda3/envs/fastai/lib/python3.6/site-packages (from plotnine->fastai==0.7.0) (0.5.2)\n",
      "Requirement already satisfied: scikit-learn>=0.15.0 in /home/ec2-user/anaconda3/envs/fastai/lib/python3.6/site-packages (from sklearn-pandas->fastai==0.7.0) (0.20.2)\n",
      "Requirement already satisfied: pexpect; sys_platform != \"win32\" in /home/ec2-user/anaconda3/envs/fastai/lib/python3.6/site-packages (from ipython->fastai==0.7.0) (4.6.0)\n",
      "Requirement already satisfied: backcall in /home/ec2-user/anaconda3/envs/fastai/lib/python3.6/site-packages (from ipython->fastai==0.7.0) (0.1.0)\n",
      "Requirement already satisfied: prompt-toolkit<2.1.0,>=2.0.0 in /home/ec2-user/anaconda3/envs/fastai/lib/python3.6/site-packages (from ipython->fastai==0.7.0) (2.0.7)\n",
      "Requirement already satisfied: setuptools>=18.5 in /home/ec2-user/anaconda3/envs/fastai/lib/python3.6/site-packages (from ipython->fastai==0.7.0) (40.6.3)\n"
     ]
    },
    {
     "name": "stdout",
     "output_type": "stream",
     "text": [
      "Requirement already satisfied: kiwisolver>=1.0.1 in /home/ec2-user/anaconda3/envs/fastai/lib/python3.6/site-packages (from matplotlib->fastai==0.7.0) (1.0.1)\n",
      "Requirement already satisfied: parso>=0.3.0 in /home/ec2-user/anaconda3/envs/fastai/lib/python3.6/site-packages (from jedi->fastai==0.7.0) (0.3.1)\n",
      "Requirement already satisfied: jupyter-console in /home/ec2-user/anaconda3/envs/fastai/lib/python3.6/site-packages (from jupyter->fastai==0.7.0) (6.0.0)\n",
      "Requirement already satisfied: qtconsole in /home/ec2-user/anaconda3/envs/fastai/lib/python3.6/site-packages (from jupyter->fastai==0.7.0) (4.4.3)\n",
      "Requirement already satisfied: nbconvert in /home/ec2-user/anaconda3/envs/fastai/lib/python3.6/site-packages (from jupyter->fastai==0.7.0) (5.3.1)\n",
      "Requirement already satisfied: jupyter-core in /home/ec2-user/anaconda3/envs/fastai/lib/python3.6/site-packages (from nbformat>=4.2.0->ipywidgets->fastai==0.7.0) (4.4.0)\n",
      "Requirement already satisfied: urllib3<1.25,>=1.21.1 in /home/ec2-user/anaconda3/envs/fastai/lib/python3.6/site-packages (from requests->torchtext->fastai==0.7.0) (1.24.1)\n",
      "Requirement already satisfied: idna<2.9,>=2.5 in /home/ec2-user/anaconda3/envs/fastai/lib/python3.6/site-packages (from requests->torchtext->fastai==0.7.0) (2.8)\n",
      "Requirement already satisfied: chardet<3.1.0,>=3.0.2 in /home/ec2-user/anaconda3/envs/fastai/lib/python3.6/site-packages (from requests->torchtext->fastai==0.7.0) (3.0.4)\n",
      "Requirement already satisfied: Send2Trash in /home/ec2-user/anaconda3/envs/fastai/lib/python3.6/site-packages (from notebook>=4.4.1->widgetsnbextension->fastai==0.7.0) (1.5.0)\n",
      "Requirement already satisfied: prometheus-client in /home/ec2-user/anaconda3/envs/fastai/lib/python3.6/site-packages (from notebook>=4.4.1->widgetsnbextension->fastai==0.7.0) (0.5.0)\n",
      "Requirement already satisfied: terminado>=0.8.1 in /home/ec2-user/anaconda3/envs/fastai/lib/python3.6/site-packages (from notebook>=4.4.1->widgetsnbextension->fastai==0.7.0) (0.8.1)\n",
      "Requirement already satisfied: palettable in /home/ec2-user/anaconda3/envs/fastai/lib/python3.6/site-packages (from mizani>=0.5.2->plotnine->fastai==0.7.0) (3.1.1)\n",
      "Requirement already satisfied: mistune>=0.7.4 in /home/ec2-user/anaconda3/envs/fastai/lib/python3.6/site-packages (from nbconvert->jupyter->fastai==0.7.0) (0.8.4)\n",
      "Requirement already satisfied: pandocfilters>=1.4.1 in /home/ec2-user/anaconda3/envs/fastai/lib/python3.6/site-packages (from nbconvert->jupyter->fastai==0.7.0) (1.4.2)\n",
      "Requirement already satisfied: torchtext==0.2.3 in /home/ec2-user/anaconda3/envs/fastai/lib/python3.6/site-packages (0.2.3)\n",
      "Requirement already satisfied: tqdm in /home/ec2-user/anaconda3/envs/fastai/lib/python3.6/site-packages (from torchtext==0.2.3) (4.28.1)\n",
      "Requirement already satisfied: requests in /home/ec2-user/anaconda3/envs/fastai/lib/python3.6/site-packages (from torchtext==0.2.3) (2.21.0)\n",
      "Requirement already satisfied: chardet<3.1.0,>=3.0.2 in /home/ec2-user/anaconda3/envs/fastai/lib/python3.6/site-packages (from requests->torchtext==0.2.3) (3.0.4)\n",
      "Requirement already satisfied: certifi>=2017.4.17 in /home/ec2-user/anaconda3/envs/fastai/lib/python3.6/site-packages (from requests->torchtext==0.2.3) (2018.11.29)\n",
      "Requirement already satisfied: idna<2.9,>=2.5 in /home/ec2-user/anaconda3/envs/fastai/lib/python3.6/site-packages (from requests->torchtext==0.2.3) (2.8)\n",
      "Requirement already satisfied: urllib3<1.25,>=1.21.1 in /home/ec2-user/anaconda3/envs/fastai/lib/python3.6/site-packages (from requests->torchtext==0.2.3) (1.24.1)\n"
     ]
    }
   ],
   "source": [
    "!pip install fastai==0.7.0 \n",
    "!pip install torchtext==0.2.3"
   ]
  },
  {
   "cell_type": "code",
   "execution_count": 2,
   "metadata": {},
   "outputs": [],
   "source": [
    "%matplotlib inline\n",
    "%reload_ext autoreload\n",
    "%autoreload 2"
   ]
  },
  {
   "cell_type": "code",
   "execution_count": 3,
   "metadata": {},
   "outputs": [],
   "source": [
    "from fastai.structured import *\n",
    "from fastai.column_data import *\n",
    "import glob\n",
    "import numpy as np\n",
    "import pandas as pd\n",
    "import feather\n",
    "\n",
    "np.set_printoptions(threshold=50, edgeitems=20)\n",
    "\n",
    "PATH='data/'"
   ]
  },
  {
   "cell_type": "code",
   "execution_count": 4,
   "metadata": {},
   "outputs": [],
   "source": [
    "# df = pd.read_csv(f'{PATH}vow.csv')\n",
    "df = pd.read_csv(f'{PATH}vow.csv', index_col=False)\n",
    "# drop not needed rows\n",
    "df = df[df['result_high'] != 0]\n",
    "\n",
    "df.reset_index(inplace=True)"
   ]
  },
  {
   "cell_type": "code",
   "execution_count": 5,
   "metadata": {},
   "outputs": [],
   "source": [
    "# i don't know where i get this \"index\" column from so o have to remove it (and i cannot drop it)\n",
    "# if you know why please tell me :-)\n",
    "df = df[['Time (UTC)', 'Open', 'High', 'Low', 'Close', 'Volume ', 'o',\n",
    "       'c', 'gaps', 'gaps_abs', 'close_minus_open', 'high_minus_low',\n",
    "       'high_minus_open', 'high_minus_close', 'low_minus_open',\n",
    "       'low_minus_close', 'EMA_5', 'EMA_10', 'EMA_20', 'EMA_50', 'EMA_100',\n",
    "       'BB_upper_band_sma', 'BB_middle_band_sma', 'BB_lower_band_sma',\n",
    "       'BB_upper_band_ema', 'BB_middle_band_ema', 'BB_lower_band_ema',\n",
    "       'MACD_macd', 'MACD_signal', 'MACD_hist', 'RSI', 'WILL_R', 'ULTOSC',\n",
    "       'ROCP', 'OBV', 'ATR', 'ATR_21', 'ATR_30', 'ATR_50', 'TSF', 'STDDEV',\n",
    "       'VAR', 'LINEARREG', 'LINEARREG_INTERCEPT', 'LINEARREG_ANGLE',\n",
    "       'LINEARREG_SLOPE', 'BETA', 'CORREL', 'result_high', 'result_low']]"
   ]
  },
  {
   "cell_type": "code",
   "execution_count": 6,
   "metadata": {},
   "outputs": [
    {
     "data": {
      "text/html": [
       "<div>\n",
       "<style scoped>\n",
       "    .dataframe tbody tr th:only-of-type {\n",
       "        vertical-align: middle;\n",
       "    }\n",
       "\n",
       "    .dataframe tbody tr th {\n",
       "        vertical-align: top;\n",
       "    }\n",
       "\n",
       "    .dataframe thead th {\n",
       "        text-align: right;\n",
       "    }\n",
       "</style>\n",
       "<table border=\"1\" class=\"dataframe\">\n",
       "  <thead>\n",
       "    <tr style=\"text-align: right;\">\n",
       "      <th></th>\n",
       "      <th>Time (UTC)</th>\n",
       "      <th>Open</th>\n",
       "      <th>High</th>\n",
       "      <th>Low</th>\n",
       "      <th>Close</th>\n",
       "      <th>Volume</th>\n",
       "      <th>o</th>\n",
       "      <th>c</th>\n",
       "      <th>gaps</th>\n",
       "      <th>gaps_abs</th>\n",
       "      <th>...</th>\n",
       "      <th>STDDEV</th>\n",
       "      <th>VAR</th>\n",
       "      <th>LINEARREG</th>\n",
       "      <th>LINEARREG_INTERCEPT</th>\n",
       "      <th>LINEARREG_ANGLE</th>\n",
       "      <th>LINEARREG_SLOPE</th>\n",
       "      <th>BETA</th>\n",
       "      <th>CORREL</th>\n",
       "      <th>result_high</th>\n",
       "      <th>result_low</th>\n",
       "    </tr>\n",
       "  </thead>\n",
       "  <tbody>\n",
       "    <tr>\n",
       "      <th>0</th>\n",
       "      <td>2011.01.07 11:00:00</td>\n",
       "      <td>126.949</td>\n",
       "      <td>127.199</td>\n",
       "      <td>126.699</td>\n",
       "      <td>126.799</td>\n",
       "      <td>16.0</td>\n",
       "      <td>126.750</td>\n",
       "      <td>126.799</td>\n",
       "      <td>0.049</td>\n",
       "      <td>0.049</td>\n",
       "      <td>...</td>\n",
       "      <td>0.672536</td>\n",
       "      <td>0.452304</td>\n",
       "      <td>126.196514</td>\n",
       "      <td>124.374486</td>\n",
       "      <td>7.978379</td>\n",
       "      <td>0.140156</td>\n",
       "      <td>0.111517</td>\n",
       "      <td>0.867126</td>\n",
       "      <td>0.2</td>\n",
       "      <td>0.401</td>\n",
       "    </tr>\n",
       "    <tr>\n",
       "      <th>1</th>\n",
       "      <td>2011.01.07 12:00:00</td>\n",
       "      <td>126.750</td>\n",
       "      <td>126.950</td>\n",
       "      <td>126.349</td>\n",
       "      <td>126.800</td>\n",
       "      <td>26.0</td>\n",
       "      <td>127.049</td>\n",
       "      <td>126.800</td>\n",
       "      <td>-0.249</td>\n",
       "      <td>0.249</td>\n",
       "      <td>...</td>\n",
       "      <td>0.331017</td>\n",
       "      <td>0.109572</td>\n",
       "      <td>126.523743</td>\n",
       "      <td>124.325829</td>\n",
       "      <td>9.596267</td>\n",
       "      <td>0.169070</td>\n",
       "      <td>0.198145</td>\n",
       "      <td>0.879946</td>\n",
       "      <td>0.7</td>\n",
       "      <td>0.450</td>\n",
       "    </tr>\n",
       "  </tbody>\n",
       "</table>\n",
       "<p>2 rows × 50 columns</p>\n",
       "</div>"
      ],
      "text/plain": [
       "            Time (UTC)     Open     High      Low    Close  Volume         o  \\\n",
       "0  2011.01.07 11:00:00  126.949  127.199  126.699  126.799     16.0  126.750   \n",
       "1  2011.01.07 12:00:00  126.750  126.950  126.349  126.800     26.0  127.049   \n",
       "\n",
       "         c   gaps  gaps_abs     ...        STDDEV       VAR   LINEARREG  \\\n",
       "0  126.799  0.049     0.049     ...      0.672536  0.452304  126.196514   \n",
       "1  126.800 -0.249     0.249     ...      0.331017  0.109572  126.523743   \n",
       "\n",
       "   LINEARREG_INTERCEPT  LINEARREG_ANGLE  LINEARREG_SLOPE      BETA    CORREL  \\\n",
       "0           124.374486         7.978379         0.140156  0.111517  0.867126   \n",
       "1           124.325829         9.596267         0.169070  0.198145  0.879946   \n",
       "\n",
       "   result_high  result_low  \n",
       "0          0.2       0.401  \n",
       "1          0.7       0.450  \n",
       "\n",
       "[2 rows x 50 columns]"
      ]
     },
     "execution_count": 6,
     "metadata": {},
     "output_type": "execute_result"
    }
   ],
   "source": [
    "df.head(2)"
   ]
  },
  {
   "cell_type": "code",
   "execution_count": 7,
   "metadata": {},
   "outputs": [],
   "source": [
    "# changes the date time columns to categorical values -> see cat vars and drop the column Time (UTC)\n",
    "add_datepart(df, \"Time (UTC)\", drop=True)"
   ]
  },
  {
   "cell_type": "code",
   "execution_count": 8,
   "metadata": {},
   "outputs": [],
   "source": [
    "# columns ofr categorical values and conitues values\n",
    "cat_vars = ['Time (UTC)Year', 'Time (UTC)Month', 'Time (UTC)Week', 'Time (UTC)Day',\n",
    "       'Time (UTC)Dayofweek', 'Time (UTC)Dayofyear', 'Time (UTC)Is_month_end',\n",
    "       'Time (UTC)Is_month_start', 'Time (UTC)Is_quarter_end',\n",
    "       'Time (UTC)Is_quarter_start', 'Time (UTC)Is_year_end',\n",
    "       'Time (UTC)Is_year_start', 'Time (UTC)Elapsed']\n",
    "\n",
    "cont_vars = ['Open', 'High', 'Low', 'Close', 'Volume ', 'o',\n",
    "       'c', 'gaps', 'gaps_abs', 'close_minus_open', 'high_minus_low',\n",
    "       'high_minus_open', 'high_minus_close', 'low_minus_open',\n",
    "       'low_minus_close', 'EMA_5', 'EMA_10', 'EMA_20', 'EMA_50', 'EMA_100',\n",
    "       'BB_upper_band_sma', 'BB_middle_band_sma', 'BB_lower_band_sma',\n",
    "       'BB_upper_band_ema', 'BB_middle_band_ema', 'BB_lower_band_ema',\n",
    "       'MACD_macd', 'MACD_signal', 'MACD_hist', 'RSI', 'WILL_R', 'ULTOSC',\n",
    "       'ROCP', 'OBV', 'ATR', 'ATR_21', 'ATR_30', 'ATR_50', 'TSF', 'STDDEV',\n",
    "       'VAR', 'LINEARREG', 'LINEARREG_INTERCEPT', 'LINEARREG_ANGLE',\n",
    "       'LINEARREG_SLOPE', 'BETA', 'CORREL']"
   ]
  },
  {
   "cell_type": "code",
   "execution_count": 9,
   "metadata": {},
   "outputs": [],
   "source": [
    "# define custom loss function\n",
    "def inv_y(a): return np.exp(a)\n",
    "\n",
    "def exp_rmspe(y_pred, targ):\n",
    "    targ = inv_y(targ)\n",
    "    pct_var = (targ - inv_y(y_pred))/targ\n",
    "    return math.sqrt((pct_var**2).mean())\n",
    "\n",
    "max_log_y = np.max((df['result_high']))\n",
    "y_range = (0, max_log_y*1.2)"
   ]
  },
  {
   "cell_type": "code",
   "execution_count": 10,
   "metadata": {},
   "outputs": [],
   "source": [
    "# change column dtypes df.dtypes\n",
    "for v in cat_vars: df[v] = df[v].astype('category').cat.as_ordered()\n",
    "for v in cont_vars: df[v] = df[v].astype('float64')"
   ]
  },
  {
   "cell_type": "code",
   "execution_count": 11,
   "metadata": {},
   "outputs": [],
   "source": [
    "# normalize data and drop not needed columns\n",
    "# normalization also drop the prediction column\n",
    "# _ = y\n",
    "df_trn, y, nas, mapper = proc_df(df, 'result_high', do_scale=True)\n",
    "yp = np.log(y)\n",
    "df_trn.drop(['result_low'], axis=1, inplace=True)"
   ]
  },
  {
   "cell_type": "code",
   "execution_count": 12,
   "metadata": {},
   "outputs": [],
   "source": [
    "# set ratio for val / train data\n",
    "train_ratio = 0.75\n",
    "train_size = int(len(df_trn) * train_ratio); train_size\n",
    "val_idx = list(range(train_size, len(df_trn)))"
   ]
  },
  {
   "cell_type": "code",
   "execution_count": 13,
   "metadata": {},
   "outputs": [
    {
     "data": {
      "text/html": [
       "<div>\n",
       "<style scoped>\n",
       "    .dataframe tbody tr th:only-of-type {\n",
       "        vertical-align: middle;\n",
       "    }\n",
       "\n",
       "    .dataframe tbody tr th {\n",
       "        vertical-align: top;\n",
       "    }\n",
       "\n",
       "    .dataframe thead th {\n",
       "        text-align: right;\n",
       "    }\n",
       "</style>\n",
       "<table border=\"1\" class=\"dataframe\">\n",
       "  <thead>\n",
       "    <tr style=\"text-align: right;\">\n",
       "      <th></th>\n",
       "      <th>Open</th>\n",
       "      <th>High</th>\n",
       "      <th>Low</th>\n",
       "      <th>Close</th>\n",
       "      <th>Volume</th>\n",
       "      <th>o</th>\n",
       "      <th>c</th>\n",
       "      <th>gaps</th>\n",
       "      <th>gaps_abs</th>\n",
       "      <th>close_minus_open</th>\n",
       "      <th>...</th>\n",
       "      <th>Time (UTC)Day</th>\n",
       "      <th>Time (UTC)Dayofweek</th>\n",
       "      <th>Time (UTC)Dayofyear</th>\n",
       "      <th>Time (UTC)Is_month_end</th>\n",
       "      <th>Time (UTC)Is_month_start</th>\n",
       "      <th>Time (UTC)Is_quarter_end</th>\n",
       "      <th>Time (UTC)Is_quarter_start</th>\n",
       "      <th>Time (UTC)Is_year_end</th>\n",
       "      <th>Time (UTC)Is_year_start</th>\n",
       "      <th>Time (UTC)Elapsed</th>\n",
       "    </tr>\n",
       "  </thead>\n",
       "  <tbody>\n",
       "    <tr>\n",
       "      <th>0</th>\n",
       "      <td>-0.793881</td>\n",
       "      <td>-0.800270</td>\n",
       "      <td>-0.786785</td>\n",
       "      <td>-0.798474</td>\n",
       "      <td>-0.166257</td>\n",
       "      <td>-0.800070</td>\n",
       "      <td>-0.798474</td>\n",
       "      <td>0.083708</td>\n",
       "      <td>-0.445516</td>\n",
       "      <td>-0.187696</td>\n",
       "      <td>...</td>\n",
       "      <td>7</td>\n",
       "      <td>5</td>\n",
       "      <td>6</td>\n",
       "      <td>1</td>\n",
       "      <td>1</td>\n",
       "      <td>1</td>\n",
       "      <td>1</td>\n",
       "      <td>1</td>\n",
       "      <td>1</td>\n",
       "      <td>1</td>\n",
       "    </tr>\n",
       "    <tr>\n",
       "      <th>1</th>\n",
       "      <td>-0.800124</td>\n",
       "      <td>-0.808081</td>\n",
       "      <td>-0.797768</td>\n",
       "      <td>-0.798443</td>\n",
       "      <td>0.285585</td>\n",
       "      <td>-0.790690</td>\n",
       "      <td>-0.798443</td>\n",
       "      <td>-0.351298</td>\n",
       "      <td>-0.115619</td>\n",
       "      <td>0.080343</td>\n",
       "      <td>...</td>\n",
       "      <td>7</td>\n",
       "      <td>5</td>\n",
       "      <td>6</td>\n",
       "      <td>1</td>\n",
       "      <td>1</td>\n",
       "      <td>1</td>\n",
       "      <td>1</td>\n",
       "      <td>1</td>\n",
       "      <td>1</td>\n",
       "      <td>2</td>\n",
       "    </tr>\n",
       "    <tr>\n",
       "      <th>2</th>\n",
       "      <td>-0.790743</td>\n",
       "      <td>-0.783015</td>\n",
       "      <td>-0.789923</td>\n",
       "      <td>-0.795336</td>\n",
       "      <td>-0.075888</td>\n",
       "      <td>-0.782815</td>\n",
       "      <td>-0.795336</td>\n",
       "      <td>-0.573181</td>\n",
       "      <td>0.135103</td>\n",
       "      <td>-0.187696</td>\n",
       "      <td>...</td>\n",
       "      <td>7</td>\n",
       "      <td>5</td>\n",
       "      <td>6</td>\n",
       "      <td>1</td>\n",
       "      <td>1</td>\n",
       "      <td>1</td>\n",
       "      <td>1</td>\n",
       "      <td>1</td>\n",
       "      <td>1</td>\n",
       "      <td>3</td>\n",
       "    </tr>\n",
       "    <tr>\n",
       "      <th>3</th>\n",
       "      <td>-0.782869</td>\n",
       "      <td>-0.772004</td>\n",
       "      <td>-0.769496</td>\n",
       "      <td>-0.765523</td>\n",
       "      <td>-0.030704</td>\n",
       "      <td>-0.768697</td>\n",
       "      <td>-0.765523</td>\n",
       "      <td>0.156696</td>\n",
       "      <td>-0.363042</td>\n",
       "      <td>0.749101</td>\n",
       "      <td>...</td>\n",
       "      <td>7</td>\n",
       "      <td>5</td>\n",
       "      <td>6</td>\n",
       "      <td>1</td>\n",
       "      <td>1</td>\n",
       "      <td>1</td>\n",
       "      <td>1</td>\n",
       "      <td>1</td>\n",
       "      <td>1</td>\n",
       "      <td>4</td>\n",
       "    </tr>\n",
       "    <tr>\n",
       "      <th>4</th>\n",
       "      <td>-0.768750</td>\n",
       "      <td>-0.756318</td>\n",
       "      <td>-0.756976</td>\n",
       "      <td>-0.743525</td>\n",
       "      <td>-0.491583</td>\n",
       "      <td>-0.740492</td>\n",
       "      <td>-0.743525</td>\n",
       "      <td>-0.132335</td>\n",
       "      <td>-0.363042</td>\n",
       "      <td>1.085490</td>\n",
       "      <td>...</td>\n",
       "      <td>7</td>\n",
       "      <td>5</td>\n",
       "      <td>6</td>\n",
       "      <td>1</td>\n",
       "      <td>1</td>\n",
       "      <td>1</td>\n",
       "      <td>1</td>\n",
       "      <td>1</td>\n",
       "      <td>1</td>\n",
       "      <td>5</td>\n",
       "    </tr>\n",
       "  </tbody>\n",
       "</table>\n",
       "<p>5 rows × 60 columns</p>\n",
       "</div>"
      ],
      "text/plain": [
       "       Open      High       Low     Close   Volume          o         c  \\\n",
       "0 -0.793881 -0.800270 -0.786785 -0.798474 -0.166257 -0.800070 -0.798474   \n",
       "1 -0.800124 -0.808081 -0.797768 -0.798443  0.285585 -0.790690 -0.798443   \n",
       "2 -0.790743 -0.783015 -0.789923 -0.795336 -0.075888 -0.782815 -0.795336   \n",
       "3 -0.782869 -0.772004 -0.769496 -0.765523 -0.030704 -0.768697 -0.765523   \n",
       "4 -0.768750 -0.756318 -0.756976 -0.743525 -0.491583 -0.740492 -0.743525   \n",
       "\n",
       "       gaps  gaps_abs  close_minus_open        ...          Time (UTC)Day  \\\n",
       "0  0.083708 -0.445516         -0.187696        ...                      7   \n",
       "1 -0.351298 -0.115619          0.080343        ...                      7   \n",
       "2 -0.573181  0.135103         -0.187696        ...                      7   \n",
       "3  0.156696 -0.363042          0.749101        ...                      7   \n",
       "4 -0.132335 -0.363042          1.085490        ...                      7   \n",
       "\n",
       "   Time (UTC)Dayofweek  Time (UTC)Dayofyear  Time (UTC)Is_month_end  \\\n",
       "0                    5                    6                       1   \n",
       "1                    5                    6                       1   \n",
       "2                    5                    6                       1   \n",
       "3                    5                    6                       1   \n",
       "4                    5                    6                       1   \n",
       "\n",
       "   Time (UTC)Is_month_start  Time (UTC)Is_quarter_end  \\\n",
       "0                         1                         1   \n",
       "1                         1                         1   \n",
       "2                         1                         1   \n",
       "3                         1                         1   \n",
       "4                         1                         1   \n",
       "\n",
       "   Time (UTC)Is_quarter_start  Time (UTC)Is_year_end  Time (UTC)Is_year_start  \\\n",
       "0                           1                      1                        1   \n",
       "1                           1                      1                        1   \n",
       "2                           1                      1                        1   \n",
       "3                           1                      1                        1   \n",
       "4                           1                      1                        1   \n",
       "\n",
       "   Time (UTC)Elapsed  \n",
       "0                  1  \n",
       "1                  2  \n",
       "2                  3  \n",
       "3                  4  \n",
       "4                  5  \n",
       "\n",
       "[5 rows x 60 columns]"
      ]
     },
     "execution_count": 13,
     "metadata": {},
     "output_type": "execute_result"
    }
   ],
   "source": [
    "df_trn.head()"
   ]
  },
  {
   "cell_type": "code",
   "execution_count": 14,
   "metadata": {},
   "outputs": [],
   "source": [
    "# removed resampling just keep the vars\n",
    "X_resampled = df_trn\n",
    "y_resampled = yp.astype(np.float32)"
   ]
  },
  {
   "cell_type": "code",
   "execution_count": 15,
   "metadata": {},
   "outputs": [],
   "source": [
    "md = ColumnarModelData.from_data_frame(PATH, val_idx, X_resampled, y_resampled, cat_flds=cat_vars, bs=128)"
   ]
  },
  {
   "cell_type": "code",
   "execution_count": 16,
   "metadata": {},
   "outputs": [],
   "source": [
    "cat_sz = [(c, len(df[c].cat.categories)+1) for c in cat_vars]\n",
    "emb_szs = [(c, min(50, (c+1)//2)) for _,c in cat_sz]"
   ]
  },
  {
   "cell_type": "code",
   "execution_count": 17,
   "metadata": {},
   "outputs": [],
   "source": [
    "m = md.get_learner(emb_szs, len(cont_vars), 0.04, 1, [2048,1024,512], [0.5, 0.4,0.3], y_range=None, use_bn=True)\n",
    "# m.summary()"
   ]
  },
  {
   "cell_type": "code",
   "execution_count": 18,
   "metadata": {},
   "outputs": [
    {
     "data": {
      "application/vnd.jupyter.widget-view+json": {
       "model_id": "cdaf7757009e4178814d2424f523d346",
       "version_major": 2,
       "version_minor": 0
      },
      "text/plain": [
       "HBox(children=(IntProgress(value=0, description='Epoch', max=1, style=ProgressStyle(description_width='initial…"
      ]
     },
     "metadata": {},
     "output_type": "display_data"
    },
    {
     "name": "stdout",
     "output_type": "stream",
     "text": [
      " 65%|██████▌   | 66/101 [00:01<00:01, 29.92it/s, loss=637] \n",
      "                                                          \r"
     ]
    }
   ],
   "source": [
    "m.lr_find()"
   ]
  },
  {
   "cell_type": "code",
   "execution_count": 19,
   "metadata": {},
   "outputs": [
    {
     "data": {
      "image/png": "[encoded data removed]",
      "text/plain": [
       "<Figure size 432x288 with 1 Axes>"
      ]
     },
     "metadata": {
      "needs_background": "light"
     },
     "output_type": "display_data"
    }
   ],
   "source": [
    "m.sched.plot()"
   ]
  },
  {
   "cell_type": "code",
   "execution_count": 20,
   "metadata": {},
   "outputs": [
    {
     "data": {
      "application/vnd.jupyter.widget-view+json": {
       "model_id": "e23efff15c694d149a157a732f7fc5dc",
       "version_major": 2,
       "version_minor": 0
      },
      "text/plain": [
       "HBox(children=(IntProgress(value=0, description='Epoch', max=7, style=ProgressStyle(description_width='initial…"
      ]
     },
     "metadata": {},
     "output_type": "display_data"
    },
    {
     "name": "stdout",
     "output_type": "stream",
     "text": [
      "epoch      trn_loss   val_loss   exp_rmspe                 \n",
      "    0      3.602246   1.607821   34.225111 \n",
      "    1      1.467056   1.533004   32.460808                 \n",
      "    2      0.851733   1.539173   29.157941                  \n",
      "    3      0.614018   1.535805   31.552172                  \n",
      "    4      0.525902   1.569742   26.824971                   \n",
      "    5      0.346997   1.565031   27.80911                   \n",
      "    6      0.222078   1.569492   27.736736                  \n",
      "\n"
     ]
    },
    {
     "data": {
      "text/plain": [
       "[array([1.56949]), 27.736735968268253]"
      ]
     },
     "execution_count": 20,
     "metadata": {},
     "output_type": "execute_result"
    }
   ],
   "source": [
    "m.fit(1e-2, 3, cycle_len=1, cycle_mult=2, metrics=[exp_rmspe])"
   ]
  },
  {
   "cell_type": "code",
   "execution_count": null,
   "metadata": {},
   "outputs": [],
   "source": [
    "# trianing loss is falling to fast and rmse is moving up? maybe adding more data to solve this?"
   ]
  },
  {
   "cell_type": "code",
   "execution_count": null,
   "metadata": {},
   "outputs": [],
   "source": []
  },
  {
   "cell_type": "code",
   "execution_count": null,
   "metadata": {},
   "outputs": [],
   "source": []
  },
  {
   "cell_type": "code",
   "execution_count": null,
   "metadata": {},
   "outputs": [],
   "source": []
  }
 ],
 "metadata": {
  "kernelspec": {
   "display_name": "conda_fastai",
   "language": "python",
   "name": "conda_fastai"
  },
  "language_info": {
   "codemirror_mode": {
    "name": "ipython",
    "version": 3
   },
   "file_extension": ".py",
   "mimetype": "text/x-python",
   "name": "python",
   "nbconvert_exporter": "python",
   "pygments_lexer": "ipython3",
   "version": "3.6.7"
  }
 },
 "nbformat": 4,
 "nbformat_minor": 2
}
