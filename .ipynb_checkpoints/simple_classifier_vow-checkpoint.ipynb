{
 "cells": [
  {
   "cell_type": "code",
   "execution_count": 1,
   "metadata": {},
   "outputs": [],
   "source": [
    "%matplotlib inline\n",
    "%reload_ext autoreload\n",
    "%autoreload 2"
   ]
  },
  {
   "cell_type": "code",
   "execution_count": 2,
   "metadata": {},
   "outputs": [],
   "source": [
    "from fastai.structured import *\n",
    "from fastai.column_data import *\n",
    "import glob\n",
    "import numpy as np\n",
    "import pandas as pd\n",
    "import feather\n",
    "\n",
    "np.set_printoptions(threshold=50, edgeitems=20)\n",
    "\n",
    "PATH='data/'"
   ]
  },
  {
   "cell_type": "code",
   "execution_count": 3,
   "metadata": {},
   "outputs": [],
   "source": [
    "# df = pd.read_csv(f'{PATH}vow.csv')\n",
    "df = pd.read_csv(f'{PATH}vow.csv', index_col=False)\n",
    "df = df[df['result_high'] != 0]\n",
    "# yp = pd.DataFrame(pd.DataFrame([((df['result_high'] > 0.4)) & (df.result_low < 0.4) ]).values.reshape(df.shape[0],1))\n",
    "yp = pd.DataFrame(pd.DataFrame([((df['result_high'] > 0.4))]).values.reshape(df.shape[0],1))\n",
    "yp[0] = yp[0].astype(np.int64)\n",
    "\n",
    "# df = df.drop(['result_low'], axis=1)\n",
    "\n",
    "df.reset_index(inplace=True)"
   ]
  },
  {
   "cell_type": "code",
   "execution_count": 4,
   "metadata": {},
   "outputs": [],
   "source": [
    "# i don't know where i get this \"index\" column from so o have to remove it (and i cannot drop it)\n",
    "# if you know why please tell me :-)\n",
    "df = df[['Time (UTC)', 'Open', 'High', 'Low', 'Close', 'Volume ', 'o',\n",
    "       'c', 'gaps', 'gaps_abs', 'close_minus_open', 'high_minus_low',\n",
    "       'high_minus_open', 'high_minus_close', 'low_minus_open',\n",
    "       'low_minus_close', 'EMA_5', 'EMA_10', 'EMA_20', 'EMA_50', 'EMA_100',\n",
    "       'BB_upper_band_sma', 'BB_middle_band_sma', 'BB_lower_band_sma',\n",
    "       'BB_upper_band_ema', 'BB_middle_band_ema', 'BB_lower_band_ema',\n",
    "       'MACD_macd', 'MACD_signal', 'MACD_hist', 'RSI', 'WILL_R', 'ULTOSC',\n",
    "       'ROCP', 'OBV', 'ATR', 'ATR_21', 'ATR_30', 'ATR_50', 'TSF', 'STDDEV',\n",
    "       'VAR', 'LINEARREG', 'LINEARREG_INTERCEPT', 'LINEARREG_ANGLE',\n",
    "       'LINEARREG_SLOPE', 'BETA', 'CORREL', 'result_high', 'result_low']]"
   ]
  },
  {
   "cell_type": "code",
   "execution_count": 5,
   "metadata": {},
   "outputs": [
    {
     "data": {
      "text/html": [
       "<div>\n",
       "<style scoped>\n",
       "    .dataframe tbody tr th:only-of-type {\n",
       "        vertical-align: middle;\n",
       "    }\n",
       "\n",
       "    .dataframe tbody tr th {\n",
       "        vertical-align: top;\n",
       "    }\n",
       "\n",
       "    .dataframe thead th {\n",
       "        text-align: right;\n",
       "    }\n",
       "</style>\n",
       "<table border=\"1\" class=\"dataframe\">\n",
       "  <thead>\n",
       "    <tr style=\"text-align: right;\">\n",
       "      <th></th>\n",
       "      <th>Time (UTC)</th>\n",
       "      <th>Open</th>\n",
       "      <th>High</th>\n",
       "      <th>Low</th>\n",
       "      <th>Close</th>\n",
       "      <th>Volume</th>\n",
       "      <th>o</th>\n",
       "      <th>c</th>\n",
       "      <th>gaps</th>\n",
       "      <th>gaps_abs</th>\n",
       "      <th>...</th>\n",
       "      <th>STDDEV</th>\n",
       "      <th>VAR</th>\n",
       "      <th>LINEARREG</th>\n",
       "      <th>LINEARREG_INTERCEPT</th>\n",
       "      <th>LINEARREG_ANGLE</th>\n",
       "      <th>LINEARREG_SLOPE</th>\n",
       "      <th>BETA</th>\n",
       "      <th>CORREL</th>\n",
       "      <th>result_high</th>\n",
       "      <th>result_low</th>\n",
       "    </tr>\n",
       "  </thead>\n",
       "  <tbody>\n",
       "    <tr>\n",
       "      <th>0</th>\n",
       "      <td>2011.01.07 11:00:00</td>\n",
       "      <td>126.949</td>\n",
       "      <td>127.199</td>\n",
       "      <td>126.699</td>\n",
       "      <td>126.799</td>\n",
       "      <td>16.0</td>\n",
       "      <td>126.750</td>\n",
       "      <td>126.799</td>\n",
       "      <td>0.049</td>\n",
       "      <td>0.049</td>\n",
       "      <td>...</td>\n",
       "      <td>0.672536</td>\n",
       "      <td>0.452304</td>\n",
       "      <td>126.196514</td>\n",
       "      <td>124.374486</td>\n",
       "      <td>7.978379</td>\n",
       "      <td>0.140156</td>\n",
       "      <td>0.111517</td>\n",
       "      <td>0.867126</td>\n",
       "      <td>0.2</td>\n",
       "      <td>0.401</td>\n",
       "    </tr>\n",
       "    <tr>\n",
       "      <th>1</th>\n",
       "      <td>2011.01.07 12:00:00</td>\n",
       "      <td>126.750</td>\n",
       "      <td>126.950</td>\n",
       "      <td>126.349</td>\n",
       "      <td>126.800</td>\n",
       "      <td>26.0</td>\n",
       "      <td>127.049</td>\n",
       "      <td>126.800</td>\n",
       "      <td>-0.249</td>\n",
       "      <td>0.249</td>\n",
       "      <td>...</td>\n",
       "      <td>0.331017</td>\n",
       "      <td>0.109572</td>\n",
       "      <td>126.523743</td>\n",
       "      <td>124.325829</td>\n",
       "      <td>9.596267</td>\n",
       "      <td>0.169070</td>\n",
       "      <td>0.198145</td>\n",
       "      <td>0.879946</td>\n",
       "      <td>0.7</td>\n",
       "      <td>0.450</td>\n",
       "    </tr>\n",
       "  </tbody>\n",
       "</table>\n",
       "<p>2 rows × 50 columns</p>\n",
       "</div>"
      ],
      "text/plain": [
       "            Time (UTC)     Open     High      Low    Close  Volume         o  \\\n",
       "0  2011.01.07 11:00:00  126.949  127.199  126.699  126.799     16.0  126.750   \n",
       "1  2011.01.07 12:00:00  126.750  126.950  126.349  126.800     26.0  127.049   \n",
       "\n",
       "         c   gaps  gaps_abs     ...        STDDEV       VAR   LINEARREG  \\\n",
       "0  126.799  0.049     0.049     ...      0.672536  0.452304  126.196514   \n",
       "1  126.800 -0.249     0.249     ...      0.331017  0.109572  126.523743   \n",
       "\n",
       "   LINEARREG_INTERCEPT  LINEARREG_ANGLE  LINEARREG_SLOPE      BETA    CORREL  \\\n",
       "0           124.374486         7.978379         0.140156  0.111517  0.867126   \n",
       "1           124.325829         9.596267         0.169070  0.198145  0.879946   \n",
       "\n",
       "   result_high  result_low  \n",
       "0          0.2       0.401  \n",
       "1          0.7       0.450  \n",
       "\n",
       "[2 rows x 50 columns]"
      ]
     },
     "execution_count": 5,
     "metadata": {},
     "output_type": "execute_result"
    }
   ],
   "source": [
    "df.head(2)"
   ]
  },
  {
   "cell_type": "code",
   "execution_count": 6,
   "metadata": {},
   "outputs": [],
   "source": [
    "# changes the date time columns to categorical values -> see cat vars and drop the column Time (UTC)\n",
    "add_datepart(df, \"Time (UTC)\", drop=True)"
   ]
  },
  {
   "cell_type": "code",
   "execution_count": 7,
   "metadata": {},
   "outputs": [],
   "source": [
    "# columns ofr categorical values and conitues values\n",
    "cat_vars = ['Time (UTC)Year', 'Time (UTC)Month', 'Time (UTC)Week', 'Time (UTC)Day',\n",
    "       'Time (UTC)Dayofweek', 'Time (UTC)Dayofyear', 'Time (UTC)Is_month_end',\n",
    "       'Time (UTC)Is_month_start', 'Time (UTC)Is_quarter_end',\n",
    "       'Time (UTC)Is_quarter_start', 'Time (UTC)Is_year_end',\n",
    "       'Time (UTC)Is_year_start', 'Time (UTC)Elapsed']\n",
    "\n",
    "cont_vars = ['Open', 'High', 'Low', 'Close', 'Volume ', 'o',\n",
    "       'c', 'gaps', 'gaps_abs', 'close_minus_open', 'high_minus_low',\n",
    "       'high_minus_open', 'high_minus_close', 'low_minus_open',\n",
    "       'low_minus_close', 'EMA_5', 'EMA_10', 'EMA_20', 'EMA_50', 'EMA_100',\n",
    "       'BB_upper_band_sma', 'BB_middle_band_sma', 'BB_lower_band_sma',\n",
    "       'BB_upper_band_ema', 'BB_middle_band_ema', 'BB_lower_band_ema',\n",
    "       'MACD_macd', 'MACD_signal', 'MACD_hist', 'RSI', 'WILL_R', 'ULTOSC',\n",
    "       'ROCP', 'OBV', 'ATR', 'ATR_21', 'ATR_30', 'ATR_50', 'TSF', 'STDDEV',\n",
    "       'VAR', 'LINEARREG', 'LINEARREG_INTERCEPT', 'LINEARREG_ANGLE',\n",
    "       'LINEARREG_SLOPE', 'BETA', 'CORREL']"
   ]
  },
  {
   "cell_type": "code",
   "execution_count": 8,
   "metadata": {},
   "outputs": [],
   "source": [
    "# change column dtypes df.dtypes\n",
    "for v in cat_vars: df[v] = df[v].astype('category').cat.as_ordered()\n",
    "for v in cont_vars: df[v] = df[v].astype('float64')"
   ]
  },
  {
   "cell_type": "code",
   "execution_count": 9,
   "metadata": {},
   "outputs": [],
   "source": [
    "# normalize data and drop not needed columns\n",
    "# normalization also drop the prediction column\n",
    "# _ = y\n",
    "df_trn, _, nas, mapper = proc_df(df, 'result_high', do_scale=True)\n",
    "df_trn.drop(['result_low'], axis=1, inplace=True)"
   ]
  },
  {
   "cell_type": "code",
   "execution_count": 10,
   "metadata": {},
   "outputs": [],
   "source": [
    "# set ratio for val / train data\n",
    "train_ratio = 0.75\n",
    "train_size = int(len(df_trn) * train_ratio); train_size\n",
    "val_idx = list(range(train_size, len(df_trn)))"
   ]
  },
  {
   "cell_type": "code",
   "execution_count": 11,
   "metadata": {},
   "outputs": [
    {
     "data": {
      "text/html": [
       "<div>\n",
       "<style scoped>\n",
       "    .dataframe tbody tr th:only-of-type {\n",
       "        vertical-align: middle;\n",
       "    }\n",
       "\n",
       "    .dataframe tbody tr th {\n",
       "        vertical-align: top;\n",
       "    }\n",
       "\n",
       "    .dataframe thead th {\n",
       "        text-align: right;\n",
       "    }\n",
       "</style>\n",
       "<table border=\"1\" class=\"dataframe\">\n",
       "  <thead>\n",
       "    <tr style=\"text-align: right;\">\n",
       "      <th></th>\n",
       "      <th>Open</th>\n",
       "      <th>High</th>\n",
       "      <th>Low</th>\n",
       "      <th>Close</th>\n",
       "      <th>Volume</th>\n",
       "      <th>o</th>\n",
       "      <th>c</th>\n",
       "      <th>gaps</th>\n",
       "      <th>gaps_abs</th>\n",
       "      <th>close_minus_open</th>\n",
       "      <th>...</th>\n",
       "      <th>Time (UTC)Day</th>\n",
       "      <th>Time (UTC)Dayofweek</th>\n",
       "      <th>Time (UTC)Dayofyear</th>\n",
       "      <th>Time (UTC)Is_month_end</th>\n",
       "      <th>Time (UTC)Is_month_start</th>\n",
       "      <th>Time (UTC)Is_quarter_end</th>\n",
       "      <th>Time (UTC)Is_quarter_start</th>\n",
       "      <th>Time (UTC)Is_year_end</th>\n",
       "      <th>Time (UTC)Is_year_start</th>\n",
       "      <th>Time (UTC)Elapsed</th>\n",
       "    </tr>\n",
       "  </thead>\n",
       "  <tbody>\n",
       "    <tr>\n",
       "      <th>0</th>\n",
       "      <td>-0.793881</td>\n",
       "      <td>-0.800270</td>\n",
       "      <td>-0.786785</td>\n",
       "      <td>-0.798474</td>\n",
       "      <td>-0.166257</td>\n",
       "      <td>-0.800070</td>\n",
       "      <td>-0.798474</td>\n",
       "      <td>0.083708</td>\n",
       "      <td>-0.445516</td>\n",
       "      <td>-0.187696</td>\n",
       "      <td>...</td>\n",
       "      <td>7</td>\n",
       "      <td>5</td>\n",
       "      <td>6</td>\n",
       "      <td>1</td>\n",
       "      <td>1</td>\n",
       "      <td>1</td>\n",
       "      <td>1</td>\n",
       "      <td>1</td>\n",
       "      <td>1</td>\n",
       "      <td>1</td>\n",
       "    </tr>\n",
       "    <tr>\n",
       "      <th>1</th>\n",
       "      <td>-0.800124</td>\n",
       "      <td>-0.808081</td>\n",
       "      <td>-0.797768</td>\n",
       "      <td>-0.798443</td>\n",
       "      <td>0.285585</td>\n",
       "      <td>-0.790690</td>\n",
       "      <td>-0.798443</td>\n",
       "      <td>-0.351298</td>\n",
       "      <td>-0.115619</td>\n",
       "      <td>0.080343</td>\n",
       "      <td>...</td>\n",
       "      <td>7</td>\n",
       "      <td>5</td>\n",
       "      <td>6</td>\n",
       "      <td>1</td>\n",
       "      <td>1</td>\n",
       "      <td>1</td>\n",
       "      <td>1</td>\n",
       "      <td>1</td>\n",
       "      <td>1</td>\n",
       "      <td>2</td>\n",
       "    </tr>\n",
       "    <tr>\n",
       "      <th>2</th>\n",
       "      <td>-0.790743</td>\n",
       "      <td>-0.783015</td>\n",
       "      <td>-0.789923</td>\n",
       "      <td>-0.795336</td>\n",
       "      <td>-0.075888</td>\n",
       "      <td>-0.782815</td>\n",
       "      <td>-0.795336</td>\n",
       "      <td>-0.573181</td>\n",
       "      <td>0.135103</td>\n",
       "      <td>-0.187696</td>\n",
       "      <td>...</td>\n",
       "      <td>7</td>\n",
       "      <td>5</td>\n",
       "      <td>6</td>\n",
       "      <td>1</td>\n",
       "      <td>1</td>\n",
       "      <td>1</td>\n",
       "      <td>1</td>\n",
       "      <td>1</td>\n",
       "      <td>1</td>\n",
       "      <td>3</td>\n",
       "    </tr>\n",
       "    <tr>\n",
       "      <th>3</th>\n",
       "      <td>-0.782869</td>\n",
       "      <td>-0.772004</td>\n",
       "      <td>-0.769496</td>\n",
       "      <td>-0.765523</td>\n",
       "      <td>-0.030704</td>\n",
       "      <td>-0.768697</td>\n",
       "      <td>-0.765523</td>\n",
       "      <td>0.156696</td>\n",
       "      <td>-0.363042</td>\n",
       "      <td>0.749101</td>\n",
       "      <td>...</td>\n",
       "      <td>7</td>\n",
       "      <td>5</td>\n",
       "      <td>6</td>\n",
       "      <td>1</td>\n",
       "      <td>1</td>\n",
       "      <td>1</td>\n",
       "      <td>1</td>\n",
       "      <td>1</td>\n",
       "      <td>1</td>\n",
       "      <td>4</td>\n",
       "    </tr>\n",
       "    <tr>\n",
       "      <th>4</th>\n",
       "      <td>-0.768750</td>\n",
       "      <td>-0.756318</td>\n",
       "      <td>-0.756976</td>\n",
       "      <td>-0.743525</td>\n",
       "      <td>-0.491583</td>\n",
       "      <td>-0.740492</td>\n",
       "      <td>-0.743525</td>\n",
       "      <td>-0.132335</td>\n",
       "      <td>-0.363042</td>\n",
       "      <td>1.085490</td>\n",
       "      <td>...</td>\n",
       "      <td>7</td>\n",
       "      <td>5</td>\n",
       "      <td>6</td>\n",
       "      <td>1</td>\n",
       "      <td>1</td>\n",
       "      <td>1</td>\n",
       "      <td>1</td>\n",
       "      <td>1</td>\n",
       "      <td>1</td>\n",
       "      <td>5</td>\n",
       "    </tr>\n",
       "  </tbody>\n",
       "</table>\n",
       "<p>5 rows × 60 columns</p>\n",
       "</div>"
      ],
      "text/plain": [
       "       Open      High       Low     Close   Volume          o         c  \\\n",
       "0 -0.793881 -0.800270 -0.786785 -0.798474 -0.166257 -0.800070 -0.798474   \n",
       "1 -0.800124 -0.808081 -0.797768 -0.798443  0.285585 -0.790690 -0.798443   \n",
       "2 -0.790743 -0.783015 -0.789923 -0.795336 -0.075888 -0.782815 -0.795336   \n",
       "3 -0.782869 -0.772004 -0.769496 -0.765523 -0.030704 -0.768697 -0.765523   \n",
       "4 -0.768750 -0.756318 -0.756976 -0.743525 -0.491583 -0.740492 -0.743525   \n",
       "\n",
       "       gaps  gaps_abs  close_minus_open        ...          Time (UTC)Day  \\\n",
       "0  0.083708 -0.445516         -0.187696        ...                      7   \n",
       "1 -0.351298 -0.115619          0.080343        ...                      7   \n",
       "2 -0.573181  0.135103         -0.187696        ...                      7   \n",
       "3  0.156696 -0.363042          0.749101        ...                      7   \n",
       "4 -0.132335 -0.363042          1.085490        ...                      7   \n",
       "\n",
       "   Time (UTC)Dayofweek  Time (UTC)Dayofyear  Time (UTC)Is_month_end  \\\n",
       "0                    5                    6                       1   \n",
       "1                    5                    6                       1   \n",
       "2                    5                    6                       1   \n",
       "3                    5                    6                       1   \n",
       "4                    5                    6                       1   \n",
       "\n",
       "   Time (UTC)Is_month_start  Time (UTC)Is_quarter_end  \\\n",
       "0                         1                         1   \n",
       "1                         1                         1   \n",
       "2                         1                         1   \n",
       "3                         1                         1   \n",
       "4                         1                         1   \n",
       "\n",
       "   Time (UTC)Is_quarter_start  Time (UTC)Is_year_end  Time (UTC)Is_year_start  \\\n",
       "0                           1                      1                        1   \n",
       "1                           1                      1                        1   \n",
       "2                           1                      1                        1   \n",
       "3                           1                      1                        1   \n",
       "4                           1                      1                        1   \n",
       "\n",
       "   Time (UTC)Elapsed  \n",
       "0                  1  \n",
       "1                  2  \n",
       "2                  3  \n",
       "3                  4  \n",
       "4                  5  \n",
       "\n",
       "[5 rows x 60 columns]"
      ]
     },
     "execution_count": 11,
     "metadata": {},
     "output_type": "execute_result"
    }
   ],
   "source": [
    "df_trn.head()"
   ]
  },
  {
   "cell_type": "code",
   "execution_count": 12,
   "metadata": {},
   "outputs": [
    {
     "name": "stdout",
     "output_type": "stream",
     "text": [
      "distribution\n",
      "0    9244\n",
      "1    7986\n",
      "Name: 0, dtype: int64\n"
     ]
    }
   ],
   "source": [
    "# change shape of yp \n",
    "X_resampled = df_trn\n",
    "y_resampled = yp.values.reshape(1, df.shape[0])[0])\n",
    "\n",
    "print('distribution')\n",
    "print(pd.DataFrame(y_resampled)[0].value_counts())"
   ]
  },
  {
   "cell_type": "code",
   "execution_count": 13,
   "metadata": {},
   "outputs": [],
   "source": [
    "md = ColumnarModelData.from_data_frame(PATH, val_idx, X_resampled, y_resampled, cat_flds=cat_vars, bs=128, is_reg=False)"
   ]
  },
  {
   "cell_type": "code",
   "execution_count": 14,
   "metadata": {},
   "outputs": [],
   "source": [
    "cat_sz = [(c, len(df[c].cat.categories)+1) for c in cat_vars]\n",
    "emb_szs = [(c, min(50, (c+1)//2)) for _,c in cat_sz]"
   ]
  },
  {
   "cell_type": "code",
   "execution_count": 15,
   "metadata": {},
   "outputs": [],
   "source": [
    "m = md.get_learner(emb_szs, len(cont_vars), 0.04, 10, [2048,1024,512], [0.5, 0.4,0.3], y_range=None, use_bn=True)\n",
    "# m.summary()"
   ]
  },
  {
   "cell_type": "code",
   "execution_count": 16,
   "metadata": {},
   "outputs": [
    {
     "data": {
      "application/vnd.jupyter.widget-view+json": {
       "model_id": "29599efae6ac4c609f253cf130c263e5",
       "version_major": 2,
       "version_minor": 0
      },
      "text/plain": [
       "HBox(children=(IntProgress(value=0, description='Epoch', max=1, style=ProgressStyle(description_width='initial…"
      ]
     },
     "metadata": {},
     "output_type": "display_data"
    },
    {
     "name": "stdout",
     "output_type": "stream",
     "text": [
      " 67%|██████▋   | 68/101 [00:01<00:01, 20.30it/s, loss=1.1] \n",
      "                                                          \r"
     ]
    }
   ],
   "source": [
    "m.crit = F.cross_entropy\n",
    "m.lr_find()"
   ]
  },
  {
   "cell_type": "code",
   "execution_count": 17,
   "metadata": {},
   "outputs": [
    {
     "data": {
      "image/png": "[encoded data removed]",
      "text/plain": [
       "<Figure size 432x288 with 1 Axes>"
      ]
     },
     "metadata": {
      "needs_background": "light"
     },
     "output_type": "display_data"
    }
   ],
   "source": [
    "m.sched.plot()"
   ]
  },
  {
   "cell_type": "code",
   "execution_count": 21,
   "metadata": {},
   "outputs": [
    {
     "data": {
      "application/vnd.jupyter.widget-view+json": {
       "model_id": "3e0c301938ea42859b0093460ac40c81",
       "version_major": 2,
       "version_minor": 0
      },
      "text/plain": [
       "HBox(children=(IntProgress(value=0, description='Epoch', max=7, style=ProgressStyle(description_width='initial…"
      ]
     },
     "metadata": {},
     "output_type": "display_data"
    },
    {
     "name": "stdout",
     "output_type": "stream",
     "text": [
      "epoch      trn_loss   val_loss   accuracy                    \n",
      "    0      0.641903   0.657745   0.61792   \n",
      "    1      0.637743   0.656431   0.617456                    \n",
      "    2      0.627788   0.656558   0.620706                    \n",
      "    3      0.619991   0.660072   0.618617                    \n",
      "    4      0.59601    0.664049   0.615135                    \n",
      "    5      0.574605   0.66702    0.613278                    \n",
      "    6      0.558262   0.667994   0.613045                    \n",
      "\n"
     ]
    },
    {
     "data": {
      "text/plain": [
       "[array([0.66799]), 0.6130454960861135]"
      ]
     },
     "execution_count": 21,
     "metadata": {},
     "output_type": "execute_result"
    }
   ],
   "source": [
    "m.fit(0.1e-3, 3, cycle_len=1, cycle_mult=2, metrics=[accuracy])"
   ]
  },
  {
   "cell_type": "code",
   "execution_count": null,
   "metadata": {},
   "outputs": [],
   "source": []
  },
  {
   "cell_type": "code",
   "execution_count": null,
   "metadata": {},
   "outputs": [],
   "source": []
  },
  {
   "cell_type": "code",
   "execution_count": null,
   "metadata": {},
   "outputs": [],
   "source": []
  },
  {
   "cell_type": "code",
   "execution_count": null,
   "metadata": {},
   "outputs": [],
   "source": []
  },
  {
   "cell_type": "code",
   "execution_count": null,
   "metadata": {},
   "outputs": [],
   "source": []
  },
  {
   "cell_type": "code",
   "execution_count": null,
   "metadata": {},
   "outputs": [],
   "source": [
    "# temp do evaluate you acan ignore this"
   ]
  },
  {
   "cell_type": "code",
   "execution_count": 19,
   "metadata": {
    "scrolled": true
   },
   "outputs": [
    {
     "ename": "NameError",
     "evalue": "name 'pos_short' is not defined",
     "output_type": "error",
     "traceback": [
      "\u001b[0;31m---------------------------------------------------------------------------\u001b[0m",
      "\u001b[0;31mNameError\u001b[0m                                 Traceback (most recent call last)",
      "\u001b[0;32m<ipython-input-19-72a3cf85b91f>\u001b[0m in \u001b[0;36m<module>\u001b[0;34m\u001b[0m\n\u001b[1;32m     13\u001b[0m \u001b[0;34m\u001b[0m\u001b[0m\n\u001b[1;32m     14\u001b[0m         \u001b[0minside\u001b[0m \u001b[0;34m=\u001b[0m \u001b[0minside\u001b[0m \u001b[0;34m+\u001b[0m \u001b[0;36m1\u001b[0m\u001b[0;34m\u001b[0m\u001b[0;34m\u001b[0m\u001b[0m\n\u001b[0;32m---> 15\u001b[0;31m         \u001b[0mpos_short\u001b[0m\u001b[0;34m.\u001b[0m\u001b[0mappend\u001b[0m\u001b[0;34m(\u001b[0m\u001b[0mi\u001b[0m\u001b[0;34m)\u001b[0m\u001b[0;34m\u001b[0m\u001b[0;34m\u001b[0m\u001b[0m\n\u001b[0m\u001b[1;32m     16\u001b[0m \u001b[0;34m\u001b[0m\u001b[0m\n\u001b[1;32m     17\u001b[0m         \u001b[0;32mif\u001b[0m\u001b[0;34m(\u001b[0m\u001b[0my_resampled\u001b[0m\u001b[0;34m[\u001b[0m\u001b[0mi\u001b[0m\u001b[0;34m]\u001b[0m \u001b[0;34m==\u001b[0m \u001b[0;36m1\u001b[0m\u001b[0;34m)\u001b[0m\u001b[0;34m:\u001b[0m\u001b[0;34m\u001b[0m\u001b[0;34m\u001b[0m\u001b[0m\n",
      "\u001b[0;31mNameError\u001b[0m: name 'pos_short' is not defined"
     ]
    }
   ],
   "source": [
    "# print(m.crit)\n",
    "np.exp(m.predict())\n",
    "y_resampled[0]\n",
    "[val_idx[0]]\n",
    "\n",
    "inside = 0\n",
    "pos = 0\n",
    "\n",
    "i = val_idx[0]\n",
    "for value in m.predict():\n",
    "    value = np.exp(value)\n",
    "    if(value[1] > 0.5):\n",
    "        \n",
    "        inside = inside + 1\n",
    "        pos_short.append(i)\n",
    "\n",
    "        if(y_resampled[i] == 1):\n",
    "            pos = pos + 1\n",
    "            \n",
    "#             print(f'{df.result_high[i]}, {df.result_low[i]}')\n",
    "#         else:\n",
    "#             if(df['result_low'][i]<0.2):\n",
    "#                 print(f'{df.result_high[i]}, {df.result_low[i]}')\n",
    "            \n",
    "    i = i + 1\n",
    "#     print(y_resampled[i])\n",
    "#     print(i)\n",
    "neg = inside - pos\n",
    "print(f'total: {inside}')\n",
    "print(f'pos: {pos}')\n",
    "print(f'neg: {neg}')"
   ]
  },
  {
   "cell_type": "code",
   "execution_count": null,
   "metadata": {},
   "outputs": [],
   "source": [
    "pos_short = []\n",
    "pos_long = []"
   ]
  },
  {
   "cell_type": "code",
   "execution_count": null,
   "metadata": {},
   "outputs": [],
   "source": [
    "index=0\n",
    "pos_long[index:index+10]"
   ]
  },
  {
   "cell_type": "code",
   "execution_count": null,
   "metadata": {},
   "outputs": [],
   "source": [
    "\n",
    "pos_short[index:index+10]"
   ]
  },
  {
   "cell_type": "code",
   "execution_count": null,
   "metadata": {},
   "outputs": [],
   "source": [
    "i = 61638\n",
    "print(f'{df.result_high[i]}, {df.result_low[i]}')"
   ]
  },
  {
   "cell_type": "code",
   "execution_count": null,
   "metadata": {},
   "outputs": [],
   "source": [
    "same_same = []\n",
    "for short in pos_short:\n",
    "    for long in pos_long:\n",
    "        if(long == short):\n",
    "            same_same.append(long)\n",
    "            print(f'index:{long}, index:{short} {df.result_high[long]}, {df.result_low[long]}')"
   ]
  },
  {
   "cell_type": "code",
   "execution_count": null,
   "metadata": {},
   "outputs": [],
   "source": [
    "is_inside = 0\n",
    "cn = 0\n",
    "pos = 0\n",
    "neg = 0\n",
    "for long in pos_long:\n",
    "    for same in same_same:\n",
    "        if(same == long):\n",
    "            is_inside = 1\n",
    "    if(is_inside == 0):\n",
    "        if(df.result_low[long] < df.result_high[long]):\n",
    "            if(df.result_low[long] < 0.15):\n",
    "                if(df.result_high[long] > 0.3):\n",
    "                    pos = pos + 1\n",
    "#         print(f'low: {df.result_low[long]}')\n",
    "#         print(f'high: {df.result_high[long]}')\n",
    "        cn = cn + 1\n",
    "    is_inside = 0\n",
    "\n",
    "neg = cn - pos\n",
    "print(cn)\n",
    "print(pos)\n",
    "print(neg)"
   ]
  },
  {
   "cell_type": "code",
   "execution_count": null,
   "metadata": {},
   "outputs": [],
   "source": []
  }
 ],
 "metadata": {
  "kernelspec": {
   "display_name": "conda_fastai",
   "language": "python",
   "name": "conda_fastai"
  },
  "language_info": {
   "codemirror_mode": {
    "name": "ipython",
    "version": 3
   },
   "file_extension": ".py",
   "mimetype": "text/x-python",
   "name": "python",
   "nbconvert_exporter": "python",
   "pygments_lexer": "ipython3",
   "version": "3.6.7"
  }
 },
 "nbformat": 4,
 "nbformat_minor": 2
}
